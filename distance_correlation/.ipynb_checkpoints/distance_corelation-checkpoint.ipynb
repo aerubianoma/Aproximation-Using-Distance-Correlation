{
 "cells": [
  {
   "cell_type": "code",
   "execution_count": 1,
   "metadata": {},
   "outputs": [
    {
     "name": "stdout",
     "output_type": "stream",
     "text": [
      "enter the sample size:\n",
      "1000\n",
      "enter the value for noise:\n",
      "0.1\n",
      "enter the size of the sample that you want to examinate\n",
      "100\n",
      "insert the value for the jump of the scanner\n",
      "10\n",
      "por favor espere\n",
      "iteracion 0:\n",
      "The distance correlation is: 0.9223069247314423\n",
      "iteracion 10:\n",
      "The distance correlation is: 0.9124699300614376\n",
      "iteracion 20:\n",
      "The distance correlation is: 0.9127264654837428\n",
      "iteracion 30:\n",
      "The distance correlation is: 0.9156490217076467\n",
      "iteracion 40:\n",
      "The distance correlation is: 0.9147311268397441\n",
      "iteracion 50:\n",
      "The distance correlation is: 0.9203416498367132\n",
      "iteracion 60:\n",
      "The distance correlation is: 0.9208174238434476\n",
      "iteracion 70:\n",
      "The distance correlation is: 0.9178086146819469\n",
      "iteracion 80:\n",
      "The distance correlation is: 0.9088981787774869\n",
      "iteracion 90:\n",
      "The distance correlation is: 0.8972865912329233\n",
      "iteracion 100:\n",
      "The distance correlation is: 0.8836828669074066\n",
      "iteracion 110:\n",
      "The distance correlation is: 0.8642568565470389\n",
      "iteracion 120:\n",
      "The distance correlation is: 0.8383503540063918\n",
      "iteracion 130:\n",
      "The distance correlation is: 0.7845714995460761\n",
      "iteracion 140:\n",
      "The distance correlation is: 0.7214519629245778\n",
      "iteracion 150:\n",
      "The distance correlation is: 0.6587122023908639\n",
      "iteracion 160:\n",
      "The distance correlation is: 0.5827691426651161\n",
      "iteracion 170:\n",
      "The distance correlation is: 0.4610200241772503\n",
      "iteracion 180:\n",
      "The distance correlation is: 0.3811570050800643\n",
      "iteracion 190:\n",
      "The distance correlation is: 0.33829759184672026\n",
      "iteracion 200:\n",
      "The distance correlation is: 0.28670981588255734\n",
      "iteracion 210:\n",
      "The distance correlation is: 0.26672628806859255\n",
      "iteracion 220:\n",
      "The distance correlation is: 0.2619555292167653\n",
      "iteracion 230:\n",
      "The distance correlation is: 0.19500386092555017\n",
      "iteracion 240:\n",
      "The distance correlation is: 0.31260064825634515\n",
      "iteracion 250:\n",
      "The distance correlation is: 0.44002656998612893\n",
      "iteracion 260:\n",
      "The distance correlation is: 0.5255912710872799\n",
      "iteracion 270:\n",
      "The distance correlation is: 0.6479401223182407\n",
      "iteracion 280:\n",
      "The distance correlation is: 0.7291939449100995\n",
      "iteracion 290:\n",
      "The distance correlation is: 0.7777420718098514\n",
      "iteracion 300:\n",
      "The distance correlation is: 0.8123991288228049\n",
      "iteracion 310:\n",
      "The distance correlation is: 0.8393799073021644\n",
      "iteracion 320:\n",
      "The distance correlation is: 0.8657836551103604\n",
      "iteracion 330:\n",
      "The distance correlation is: 0.8967024202401884\n",
      "iteracion 340:\n",
      "The distance correlation is: 0.9198330411318765\n",
      "iteracion 350:\n",
      "The distance correlation is: 0.9376223722862754\n",
      "iteracion 360:\n",
      "The distance correlation is: 0.947042356960161\n",
      "iteracion 370:\n",
      "The distance correlation is: 0.9553142540318232\n",
      "iteracion 380:\n",
      "The distance correlation is: 0.9596498082204067\n",
      "iteracion 390:\n",
      "The distance correlation is: 0.9634338471607066\n",
      "iteracion 400:\n",
      "The distance correlation is: 0.9642857847547697\n",
      "iteracion 410:\n",
      "The distance correlation is: 0.9635812594491749\n",
      "iteracion 420:\n",
      "The distance correlation is: 0.9613631623696283\n",
      "iteracion 430:\n",
      "The distance correlation is: 0.9580971631375707\n",
      "iteracion 440:\n",
      "The distance correlation is: 0.9512526556732994\n",
      "iteracion 450:\n",
      "The distance correlation is: 0.9448592757626232\n",
      "iteracion 460:\n",
      "The distance correlation is: 0.9396227226110324\n",
      "iteracion 470:\n",
      "The distance correlation is: 0.9360372297590553\n",
      "iteracion 480:\n",
      "The distance correlation is: 0.9372292637150078\n",
      "iteracion 490:\n",
      "The distance correlation is: 0.9406503362707684\n",
      "iteracion 500:\n",
      "The distance correlation is: 0.9421139545644558\n",
      "iteracion 510:\n",
      "The distance correlation is: 0.9407389118153313\n",
      "iteracion 520:\n",
      "The distance correlation is: 0.934698432345196\n",
      "iteracion 530:\n",
      "The distance correlation is: 0.930399654355706\n",
      "iteracion 540:\n",
      "The distance correlation is: 0.9226581646314489\n",
      "iteracion 550:\n",
      "The distance correlation is: 0.9119685507654528\n",
      "iteracion 560:\n",
      "The distance correlation is: 0.8980541520397822\n",
      "iteracion 570:\n",
      "The distance correlation is: 0.8870332516582443\n",
      "iteracion 580:\n",
      "The distance correlation is: 0.8803578996648568\n",
      "iteracion 590:\n",
      "The distance correlation is: 0.8685899502555476\n",
      "iteracion 600:\n",
      "The distance correlation is: 0.8460660978645083\n",
      "iteracion 610:\n",
      "The distance correlation is: 0.8258476610116011\n",
      "iteracion 620:\n",
      "The distance correlation is: 0.8062402892640285\n",
      "iteracion 630:\n",
      "The distance correlation is: 0.7625897278799854\n",
      "iteracion 640:\n",
      "The distance correlation is: 0.6975043218696626\n",
      "iteracion 650:\n",
      "The distance correlation is: 0.6053545374158436\n",
      "iteracion 660:\n",
      "The distance correlation is: 0.5098378837302244\n",
      "iteracion 670:\n",
      "The distance correlation is: 0.38756131710855984\n",
      "iteracion 680:\n",
      "The distance correlation is: 0.28823307740202936\n",
      "iteracion 690:\n",
      "The distance correlation is: 0.1728608669620724\n",
      "iteracion 700:\n",
      "The distance correlation is: 0.22401557262944294\n",
      "iteracion 710:\n",
      "The distance correlation is: 0.38694718576026993\n",
      "iteracion 720:\n",
      "The distance correlation is: 0.44946073700136957\n",
      "iteracion 730:\n",
      "The distance correlation is: 0.590753217770262\n",
      "iteracion 740:\n",
      "The distance correlation is: 0.6984715001482817\n",
      "iteracion 750:\n",
      "The distance correlation is: 0.746618983555772\n",
      "iteracion 760:\n",
      "The distance correlation is: 0.7927585054203015\n",
      "iteracion 770:\n",
      "The distance correlation is: 0.8051980006145267\n",
      "iteracion 780:\n",
      "The distance correlation is: 0.8119677658032516\n",
      "iteracion 790:\n",
      "The distance correlation is: 0.8174687535171354\n",
      "iteracion 800:\n",
      "The distance correlation is: 0.8259812377698822\n",
      "iteracion 810:\n",
      "The distance correlation is: 0.8431378181142442\n",
      "iteracion 820:\n",
      "The distance correlation is: 0.8620915183080958\n",
      "iteracion 830:\n",
      "The distance correlation is: 0.8941578628871794\n",
      "iteracion 840:\n",
      "The distance correlation is: 0.9205533333522767\n",
      "iteracion 850:\n",
      "The distance correlation is: 0.934362912119424\n",
      "iteracion 860:\n",
      "The distance correlation is: 0.9440465581530487\n",
      "iteracion 870:\n",
      "The distance correlation is: 0.9489001709306542\n",
      "iteracion 880:\n",
      "The distance correlation is: 0.9499423303790704\n",
      "iteracion 890:\n",
      "The distance correlation is: 0.9489535299575026\n",
      "ingrese cuantas raices desea: \n",
      "2\n"
     ]
    },
    {
     "data": {
      "image/png": "[encoded data removed]",
      "text/plain": [
       "<Figure size 432x288 with 1 Axes>"
      ]
     },
     "metadata": {
      "needs_background": "light"
     },
     "output_type": "display_data"
    },
    {
     "data": {
      "image/png": "[encoded data removed]",
      "text/plain": [
       "<Figure size 432x288 with 1 Axes>"
      ]
     },
     "metadata": {
      "needs_background": "light"
     },
     "output_type": "display_data"
    }
   ],
   "source": [
    "from Class import *\n",
    "from functions import *\n",
    "#-----------------------------------------------------------------------------------------------------\n",
    "\"\"\"en esta parte se inicializan las pruebas a realizar\"\"\"\n",
    "# Se instancia un objeto de la clase Exercise\n",
    "prueba = toy_model(); \n",
    "# Este codigo realiza el experimento con vectores aleatorios generados aqui (no los lee de un excel aun)\n",
    "print(\"enter the sample size:\")\n",
    "size = int(input());\n",
    "#print(\"enter the degree of the polynomial:\")\n",
    "#alpha = int(input());    \n",
    "print(\"enter the value for noise:\")\n",
    "noise = float(input());\n",
    "#prueba.exercise(size,alpha,noise);\n",
    "prueba.sen(size,noise);\n",
    "#prueba.plot(alpha);\n",
    "#------------------------------------------------------------------------------------------------------\n",
    "# Se instancia un objeto de la clase Distance_correlation\n",
    "prueba2 = Distance_correlation();\n",
    "# Como se dijo anteriormente, se cargan las muestras a utilizar a partir de los datos generados por la clase anterior\n",
    "prueba2.x = prueba.random_vector_x;\n",
    "prueba2.y = prueba.random_vector_y;\n",
    "n = len(prueba2.x);\n",
    "#prueba2.calculateDistanceCorrelation(n);\n",
    "#mover el tamaño de la muestra y calcular el valor\n",
    "print(\"enter the size of the sample that you want to examinate\");\n",
    "paso = int(input());\n",
    "# se crea otro objeto que calculara este valor en menos datos\n",
    "separacion = Distance_correlation();\n",
    "# se calcula el valor en cada pedazo\n",
    "print(\"insert the value for the jump of the scanner\")\n",
    "salto = int(input());\n",
    "prueba3 = Aproximation(size,paso,salto,prueba2,separacion,prueba);\n",
    "print(\"por favor espere\")\n",
    "prueba3.scanner();\n",
    "#--------------------------------------------------------------------------------------------------------------\n",
    "print(\"ingrese cuantas raices desea: \")\n",
    "prueba3.number_of_roots =int(input());\n",
    "prueba3.choose_roots();\n",
    "\n"
   ]
  },
  {
   "cell_type": "code",
   "execution_count": 16,
   "metadata": {
    "scrolled": true
   },
   "outputs": [
    {
     "name": "stdout",
     "output_type": "stream",
     "text": [
      "[-1.02341171 -1.03438122  0.63847812]\n"
     ]
    },
    {
     "data": {
      "text/plain": [
       "[<matplotlib.lines.Line2D at 0x7fec57361d50>]"
      ]
     },
     "execution_count": 16,
     "metadata": {},
     "output_type": "execute_result"
    },
    {
     "data": {
      "image/png": "[encoded data removed]",
      "text/plain": [
       "<Figure size 432x288 with 1 Axes>"
      ]
     },
     "metadata": {
      "needs_background": "light"
     },
     "output_type": "display_data"
    }
   ],
   "source": [
    "from Class import *\n",
    "def residuos(p, y, x):\n",
    "    A,B,D = p\n",
    "    error = y-A*np.exp(-D*(x - -1.473209160734248)**2)+B*np.exp(-D*(x - 1.5426724263232297)**2)\n",
    "    return error\n",
    "p0 = [1, 1, 1]\n",
    "ajuste = leastsq(residuos, p0, args=(prueba2.y, prueba2.x))\n",
    "print(ajuste[0])\n",
    "def funcion(x, p):\n",
    "    return p[0]*np.exp(-p[2]*(x - -1.473209160734248)**2)-p[1]*np.exp(-p[2]*(x - 1.5426724263232297)**2)\n",
    "x1 = prueba2.x  # array con muchos puntos de x\n",
    "y1 = funcion(prueba2.x, ajuste[0])           # valor de la funcion modelo en los x\n",
    "plt.figure(2)\n",
    "y2 = np.sin(x1);\n",
    "plt.plot(prueba2.x,prueba2.y, \"o\")\n",
    "plt.plot(x1, y1, 'r-')\n",
    "plt.plot(x1,y2, \"g-\")\n"
   ]
  },
  {
   "cell_type": "code",
   "execution_count": 3,
   "metadata": {},
   "outputs": [
    {
     "name": "stdout",
     "output_type": "stream",
     "text": [
      "[1.5426724263232297, -1.473209160734248]\n"
     ]
    }
   ],
   "source": [
    "print(prueba3.critical_points)"
   ]
  },
  {
   "cell_type": "code",
   "execution_count": null,
   "metadata": {},
   "outputs": [],
   "source": []
  },
  {
   "cell_type": "code",
   "execution_count": null,
   "metadata": {},
   "outputs": [],
   "source": []
  }
 ],
 "metadata": {
  "anaconda-cloud": {},
  "kernelspec": {
   "display_name": "Python 3",
   "language": "python",
   "name": "python3"
  },
  "language_info": {
   "codemirror_mode": {
    "name": "ipython",
    "version": 3
   },
   "file_extension": ".py",
   "mimetype": "text/x-python",
   "name": "python",
   "nbconvert_exporter": "python",
   "pygments_lexer": "ipython3",
   "version": "3.7.7"
  }
 },
 "nbformat": 4,
 "nbformat_minor": 1
}
